{
 "cells": [
  {
   "cell_type": "code",
   "execution_count": 1,
   "id": "6ce6cd40",
   "metadata": {},
   "outputs": [
    {
     "name": "stdout",
     "output_type": "stream",
     "text": [
      "Enter the vehicle type (car, truck, plane, boat, or broomstick): truck\n",
      "Enter the year: 2014\n",
      "Enter the make: nissan\n",
      "Enter the model: altima\n",
      "Enter the number of doors (2 or 4): 2\n",
      "Enter the type of roof (solid or sun roof): sun roof\n",
      "\n",
      "Vehicle Information:\n",
      "Vehicle type: truck\n",
      "Year: 2014\n",
      "Make: nissan\n",
      "Model: altima\n",
      "Number of doors: 2\n",
      "Type of roof: sun roof\n"
     ]
    }
   ],
   "source": [
    "# reator-Cole Mason\n",
    "# rogram name- Vehicle attributes\n",
    "# hat is this?- This is a python app that will accpet user input for any type of vehicle.\n",
    "# Date- 11/12/23\n",
    "\n",
    "class Vehicle:\n",
    "    def __init__(self):\n",
    "        self.vehicle_type = \"\"\n",
    "\n",
    "    def set_vehicle_type(self, vehicle_type):\n",
    "        self.vehicle_type = vehicle_type\n",
    "\n",
    "    def display_info(self):\n",
    "        print(f\"Vehicle type: {self.vehicle_type}\")\n",
    "\n",
    "\n",
    "class Automobile(Vehicle):\n",
    "    def __init__(self):\n",
    "        super().__init__()\n",
    "        self.year = \"\"\n",
    "        self.make = \"\"\n",
    "        self.model = \"\"\n",
    "        self.doors = \"\"\n",
    "        self.roof = \"\"\n",
    "\n",
    "    def set_attributes(self, year, make, model, doors, roof):\n",
    "        self.year = year\n",
    "        self.make = make\n",
    "        self.model = model\n",
    "        self.doors = doors\n",
    "        self.roof = roof\n",
    "\n",
    "    def display_info(self):\n",
    "        super().display_info()\n",
    "        print(f\"Year: {self.year}\")\n",
    "        print(f\"Make: {self.make}\")\n",
    "        print(f\"Model: {self.model}\")\n",
    "        print(f\"Number of doors: {self.doors}\")\n",
    "        print(f\"Type of roof: {self.roof}\")\n",
    "\n",
    "\n",
    "def main():\n",
    "    automobile = Automobile()\n",
    "\n",
    "    vehicle_type = input(\"Enter the vehicle type (car, truck, plane, boat, or broomstick): \")\n",
    "    automobile.set_vehicle_type(vehicle_type)\n",
    "\n",
    "    year = input(\"Enter the year: \")\n",
    "    make = input(\"Enter the make: \")\n",
    "    model = input(\"Enter the model: \")\n",
    "    doors = input(\"Enter the number of doors (2 or 4): \")\n",
    "    roof = input(\"Enter the type of roof (solid or sun roof): \")\n",
    "\n",
    "    automobile.set_attributes(year, make, model, doors, roof)\n",
    "\n",
    "    print(\"\\nVehicle Information:\")\n",
    "    automobile.display_info()\n",
    "\n",
    "\n",
    "if __name__ == \"__main__\":\n",
    "    main()\n"
   ]
  },
  {
   "cell_type": "code",
   "execution_count": null,
   "id": "f687b40b",
   "metadata": {},
   "outputs": [],
   "source": []
  },
  {
   "cell_type": "code",
   "execution_count": null,
   "id": "53430b94",
   "metadata": {},
   "outputs": [],
   "source": []
  }
 ],
 "metadata": {
  "kernelspec": {
   "display_name": "Python 3 (ipykernel)",
   "language": "python",
   "name": "python3"
  },
  "language_info": {
   "codemirror_mode": {
    "name": "ipython",
    "version": 3
   },
   "file_extension": ".py",
   "mimetype": "text/x-python",
   "name": "python",
   "nbconvert_exporter": "python",
   "pygments_lexer": "ipython3",
   "version": "3.11.5"
  }
 },
 "nbformat": 4,
 "nbformat_minor": 5
}
