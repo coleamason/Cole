{
 "cells": [
  {
   "cell_type": "code",
   "execution_count": 6,
   "id": "ab6daf9a-ce29-4874-9dde-5834aa3c76c4",
   "metadata": {
    "tags": []
   },
   "outputs": [
    {
     "name": "stdout",
     "output_type": "stream",
     "text": [
      "Welcome to the Deans list !\n"
     ]
    },
    {
     "name": "stdin",
     "output_type": "stream",
     "text": [
      "Enter student's last name (or 'ZZZ' to quit):  Mason\n",
      "Enter student's first name:  Cole\n",
      "Enter student's GPA:  3.5\n"
     ]
    },
    {
     "name": "stdout",
     "output_type": "stream",
     "text": [
      "Cole Mason has made the Dean's List! yaaaaayyy\n"
     ]
    },
    {
     "name": "stdin",
     "output_type": "stream",
     "text": [
      "Enter student's last name (or 'ZZZ' to quit):  Massey\n",
      "Enter student's first name:  Raesha\n",
      "Enter student's GPA:  3.2\n"
     ]
    },
    {
     "name": "stdout",
     "output_type": "stream",
     "text": [
      "Raesha Massey does not qualify for anything. Im Sorry. Try better next time.\n"
     ]
    },
    {
     "name": "stdin",
     "output_type": "stream",
     "text": [
      "Enter student's last name (or 'ZZZ' to quit):  Zukaburgh\n",
      "Enter student's first name:  Mark\n",
      "Enter student's GPA:  3.35\n"
     ]
    },
    {
     "name": "stdout",
     "output_type": "stream",
     "text": [
      "Mark Zukaburgh has made the Honor Roll! Good Job!!\n"
     ]
    },
    {
     "name": "stdin",
     "output_type": "stream",
     "text": [
      "Enter student's last name (or 'ZZZ' to quit):  Dinamite\n",
      "Enter student's first name:  Napolean\n",
      "Enter student's GPA:  4.0\n"
     ]
    },
    {
     "name": "stdout",
     "output_type": "stream",
     "text": [
      "Napolean Dinamite has made the Dean's List! yaaaaayyy\n"
     ]
    },
    {
     "name": "stdin",
     "output_type": "stream",
     "text": [
      "Enter student's last name (or 'ZZZ' to quit):  Dan\n",
      "Enter student's first name:  Lt\n",
      "Enter student's GPA:  4.0\n"
     ]
    },
    {
     "name": "stdout",
     "output_type": "stream",
     "text": [
      "Lt Dan has made the Dean's List! yaaaaayyy\n"
     ]
    },
    {
     "name": "stdin",
     "output_type": "stream",
     "text": [
      "Enter student's last name (or 'ZZZ' to quit):  ZZZ\n"
     ]
    },
    {
     "name": "stdout",
     "output_type": "stream",
     "text": [
      "See you later!!!\n"
     ]
    }
   ],
   "source": [
    "# Author: Cole Mason\n",
    "# File Name: student_records.py\n",
    "# Description: This app will ask students names and GPAs and checks to see if they made the Dean's List or Honor Roll.\n",
    "\n",
    "def main():\n",
    "    print(\"Welcome to the Deans list !\")\n",
    "\n",
    "    while True:\n",
    "        last_name = input(\"Enter student's last name (or 'ZZZ' to quit): \")\n",
    "        \n",
    "        if last_name == 'ZZZ':\n",
    "            print(\"See you later!!!\")\n",
    "            break\n",
    "        \n",
    "\n",
    "        first_name = input(\"Enter student's first name: \")\n",
    "        try:\n",
    "            gpa = float(input(\"Enter student's GPA: \"))\n",
    "        except ValueError:\n",
    "            print(\"Invalid GPA input. Please enter a valid GPA.\")\n",
    "            continue\n",
    "\n",
    "        if gpa >= 3.5:\n",
    "            print(f\"{first_name} {last_name} has made the Dean's List! yaaaaayyy\")\n",
    "        elif gpa >= 3.25:\n",
    "            print(f\"{first_name} {last_name} has made the Honor Roll! Good Job!!\")\n",
    "        else:\n",
    "            print(f\"{first_name} {last_name} does not qualify for anything. Im Sorry. Try better next time.\")\n",
    "\n",
    "if __name__ == \"__main__\":\n",
    "    main()\n"
   ]
  },
  {
   "cell_type": "code",
   "execution_count": null,
   "id": "96424372-3c64-4753-9f42-5342e5d593e4",
   "metadata": {},
   "outputs": [],
   "source": []
  }
 ],
 "metadata": {
  "kernelspec": {
   "display_name": "anaconda-panel-2023.05-py310",
   "language": "python",
   "name": "conda-env-anaconda-panel-2023.05-py310-py"
  },
  "language_info": {
   "codemirror_mode": {
    "name": "ipython",
    "version": 3
   },
   "file_extension": ".py",
   "mimetype": "text/x-python",
   "name": "python",
   "nbconvert_exporter": "python",
   "pygments_lexer": "ipython3",
   "version": "3.11.5"
  }
 },
 "nbformat": 4,
 "nbformat_minor": 5
}
