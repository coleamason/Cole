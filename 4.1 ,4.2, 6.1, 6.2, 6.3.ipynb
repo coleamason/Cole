{
 "cells": [
  {
   "cell_type": "code",
   "execution_count": 30,
   "id": "cc24c114-108c-4110-a804-38a32c70b22b",
   "metadata": {},
   "outputs": [
    {
     "name": "stdout",
     "output_type": "stream",
     "text": [
      "Too low\n"
     ]
    }
   ],
   "source": [
    "4.1\n",
    "secret = 7\n",
    "guess = 5\n",
    "if guess < secret:\n",
    "    print('Too low')\n",
    "elif guess > secret:\n",
    "    print('Too high')\n",
    "else:\n",
    "    print('Just right')\n"
   ]
  },
  {
   "cell_type": "code",
   "execution_count": 32,
   "id": "aa6c1c6e-b5ad-4750-a5cb-9eea4fa83d1e",
   "metadata": {},
   "outputs": [
    {
     "name": "stdout",
     "output_type": "stream",
     "text": [
      "This matches: pumpkin\n"
     ]
    }
   ],
   "source": [
    "4.2\n",
    "small = False\n",
    "green = True\n",
    "if small and green:\n",
    "    print(\"This matches: pea\")\n",
    "elif small and not green:\n",
    "    print(\"This matches: cherry\")\n",
    "elif not small and not green:\n",
    "    print(\"This matches: watermelon\")\n",
    "else:\n",
    "    print(\"This matches: pumpkin\")\n"
   ]
  },
  {
   "cell_type": "code",
   "execution_count": 20,
   "id": "020f898d-5821-43a9-a34f-b3b937116c09",
   "metadata": {},
   "outputs": [
    {
     "name": "stdout",
     "output_type": "stream",
     "text": [
      "3\n",
      "2\n",
      "1\n",
      "0\n"
     ]
    }
   ],
   "source": [
    "6.1\n",
    "my_list = [3, 2, 1, 0]\n",
    "for value in my_list:\n",
    "    print(value)"
   ]
  },
  {
   "cell_type": "code",
   "execution_count": 26,
   "id": "1f9329b1-42e2-48d7-8000-0239162ee6fc",
   "metadata": {},
   "outputs": [
    {
     "name": "stdout",
     "output_type": "stream",
     "text": [
      "too low\n",
      "too low\n",
      "too low\n",
      "too low\n",
      "too low\n",
      "too low\n",
      "found it!\n"
     ]
    }
   ],
   "source": [
    "6.2\n",
    "guess_me = 7\n",
    "number = 1\n",
    "\n",
    "while number <= guess_me:\n",
    "    if number < guess_me:\n",
    "        print('too low')\n",
    "    elif number == guess_me:\n",
    "        print('found it!')\n",
    "        break  \n",
    "    else:\n",
    "        print('oops')\n",
    "        break  \n",
    "    number += 1  \n"
   ]
  },
  {
   "cell_type": "code",
   "execution_count": 36,
   "id": "f7cd53bf-79fe-4cf3-a4b1-a494a574406a",
   "metadata": {},
   "outputs": [
    {
     "name": "stdout",
     "output_type": "stream",
     "text": [
      "too low\n",
      "too low\n",
      "too low\n",
      "too low\n",
      "too low\n",
      "found it!\n"
     ]
    }
   ],
   "source": [
    "6.3\n",
    "guess_me = 5\n",
    "for number in range(10):\n",
    "    if number < guess_me:\n",
    "        print('too low')\n",
    "    elif number == guess_me:\n",
    "        print('found it!')\n",
    "        break\n",
    "    else:\n",
    "        print('oops')\n",
    "        break"
   ]
  },
  {
   "cell_type": "code",
   "execution_count": null,
   "id": "f1dc35d2-18f9-4bc4-bbf3-4270b67eb469",
   "metadata": {},
   "outputs": [],
   "source": []
  }
 ],
 "metadata": {
  "kernelspec": {
   "display_name": "anaconda-panel-2023.05-py310",
   "language": "python",
   "name": "conda-env-anaconda-panel-2023.05-py310-py"
  },
  "language_info": {
   "codemirror_mode": {
    "name": "ipython",
    "version": 3
   },
   "file_extension": ".py",
   "mimetype": "text/x-python",
   "name": "python",
   "nbconvert_exporter": "python",
   "pygments_lexer": "ipython3",
   "version": "3.11.5"
  }
 },
 "nbformat": 4,
 "nbformat_minor": 5
}
