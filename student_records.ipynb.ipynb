{
 "cells": [
  {
   "cell_type": "code",
   "execution_count": null,
   "id": "ab6daf9a-ce29-4874-9dde-5834aa3c76c4",
   "metadata": {},
   "outputs": [
    {
     "name": "stdout",
     "output_type": "stream",
     "text": [
      "Welcome to the Deans list !\n"
     ]
    },
    {
     "name": "stdin",
     "output_type": "stream",
     "text": [
      "Enter student's last name (or 'ZZZ' to quit):  Mason\n",
      "Enter student's first name:  Cole\n",
      "Enter student's GPA:  4.0\n"
     ]
    },
    {
     "name": "stdout",
     "output_type": "stream",
     "text": [
      "Cole Mason has made the Dean's List! yaaaaayyy\n"
     ]
    },
    {
     "name": "stdin",
     "output_type": "stream",
     "text": [
      "Enter student's last name (or 'ZZZ' to quit):  Mason\n",
      "Enter student's first name:  Cole\n",
      "Enter student's GPA:  3.5\n"
     ]
    },
    {
     "name": "stdout",
     "output_type": "stream",
     "text": [
      "Cole Mason has made the Dean's List! yaaaaayyy\n"
     ]
    },
    {
     "name": "stdin",
     "output_type": "stream",
     "text": [
      "Enter student's last name (or 'ZZZ' to quit):  MR\n",
      "Enter student's first name:  SMITH\n",
      "Enter student's GPA:  3.25\n"
     ]
    },
    {
     "name": "stdout",
     "output_type": "stream",
     "text": [
      "SMITH MR has made the Honor Roll! Good Job!!\n"
     ]
    }
   ],
   "source": [
    "# Author: Cole Mason\n",
    "# File Name: student_records.py\n",
    "# Description: This app will ask students names and GPAs and checks to see if they made the Dean's List or Honor Roll.\n",
    "\n",
    "def main():\n",
    "    print(\"Welcome to the Deans list !\")\n",
    "\n",
    "    while True:\n",
    "        last_name = input(\"Enter student's last name (or 'ZZZ' to quit): \")\n",
    "        \n",
    "        if last_name == 'ZZZ':\n",
    "            print(\"See you later!!!\")\n",
    "            break\n",
    "        \n",
    "\n",
    "        first_name = input(\"Enter student's first name: \")\n",
    "        try:\n",
    "            gpa = float(input(\"Enter student's GPA: \"))\n",
    "        except ValueError:\n",
    "            print(\"Invalid GPA input. Please enter a valid GPA.\")\n",
    "            continue\n",
    "\n",
    "        if gpa >= 3.5:\n",
    "            print(f\"{first_name} {last_name} has made the Dean's List! yaaaaayyy\")\n",
    "        elif gpa >= 3.25:\n",
    "            print(f\"{first_name} {last_name} has made the Honor Roll! Good Job!!\")\n",
    "        else:\n",
    "            print(f\"{first_name} {last_name} does not qualify for anything. Im Sorry. Try better next time.\")\n",
    "\n",
    "if __name__ == \"__main__\":\n",
    "    main()\n"
   ]
  },
  {
   "cell_type": "code",
   "execution_count": null,
   "id": "bc87ebae-420c-46c0-856b-87e80c7f757a",
   "metadata": {},
   "outputs": [],
   "source": []
  }
 ],
 "metadata": {
  "kernelspec": {
   "display_name": "anaconda-panel-2023.05-py310",
   "language": "python",
   "name": "conda-env-anaconda-panel-2023.05-py310-py"
  },
  "language_info": {
   "codemirror_mode": {
    "name": "ipython",
    "version": 3
   },
   "file_extension": ".py",
   "mimetype": "text/x-python",
   "name": "python",
   "nbconvert_exporter": "python",
   "pygments_lexer": "ipython3",
   "version": "3.11.5"
  }
 },
 "nbformat": 4,
 "nbformat_minor": 5
}
